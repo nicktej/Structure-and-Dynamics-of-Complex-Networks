{
 "cells": [
  {
   "cell_type": "code",
   "execution_count": 22,
   "metadata": {},
   "outputs": [],
   "source": [
    "import networkx\n",
    "import matplotlib.pyplot as plt\n",
    "%matplotlib inline\n",
    "\n",
    "import warnings\n",
    "warnings.filterwarnings(\"ignore\", category=UserWarning)\n",
    "\n",
    "import collections\n",
    "import random\n",
    "import math"
   ]
  },
  {
   "cell_type": "code",
   "execution_count": 31,
   "metadata": {},
   "outputs": [
    {
     "name": "stdout",
     "output_type": "stream",
     "text": [
      "0.06701443615929763\n"
     ]
    }
   ],
   "source": [
    "%matplotlib inline\n",
    "import matplotlib.pyplot as plt\n",
    "import warnings\n",
    "warnings.filterwarnings(\"ignore\", category=UserWarning) # to ignore annoying warning messages when using matplotlib\n",
    "import networkx\n",
    "import random\n",
    "import math\n",
    "\n",
    "N = 150\n",
    "M = 10000\n",
    "t = True\n",
    "counter = 0\n",
    "\n",
    "def make_ring(N):\n",
    "    graph = networkx.Graph()\n",
    "    for i in range(N):\n",
    "        graph.add_node(i)\n",
    "        \n",
    "    for i in range(750):\n",
    "        \n",
    "        x = random.randint(0,N-1)\n",
    "        y = random.randint(0,N-1)\n",
    "        \n",
    "        while (abs(x-y) <= 2 or (x ==(N-1) and y == 0) or (y ==(N-1) and x == 0) or (x ==(N-1) and y == 1)\n",
    "              or (y ==(N-1) and x == 1) or (x ==(N-2) and y == 0) or (y ==(N-2) and x == 0)\n",
    "              or graph.has_edge(x, y) == t):\n",
    "            x = random.randint(0,N-1)\n",
    "            y = random.randint(0,N-1)\n",
    "        \n",
    "        if (graph.has_edge(x, y) == t):\n",
    "            i=i-1\n",
    "        else:\n",
    "            graph.add_edge(x, y)\n",
    "        \n",
    "    return graph\n",
    "\n",
    "for i in range(M):\n",
    "    g = make_ring(N)\n",
    "    ac = networkx.average_clustering(g)\n",
    "    counter += ac\n",
    "\n",
    "avc = counter/M\n",
    "\n",
    "print(avc)\n",
    "# good estimate because have 150 points, then randomly choose 2 nodes to connect. if connection exists, then keep randomly choosing until find 2 nodes that aren't connected.\n",
    "# repeat many times for accuracy."
   ]
  },
  {
   "cell_type": "code",
   "execution_count": null,
   "metadata": {
    "collapsed": true
   },
   "outputs": [],
   "source": []
  },
  {
   "cell_type": "code",
   "execution_count": null,
   "metadata": {
    "collapsed": true
   },
   "outputs": [],
   "source": []
  }
 ],
 "metadata": {
  "kernelspec": {
   "display_name": "Python 3",
   "language": "python",
   "name": "python3"
  },
  "language_info": {
   "codemirror_mode": {
    "name": "ipython",
    "version": 3
   },
   "file_extension": ".py",
   "mimetype": "text/x-python",
   "name": "python",
   "nbconvert_exporter": "python",
   "pygments_lexer": "ipython3",
   "version": "3.6.1"
  }
 },
 "nbformat": 4,
 "nbformat_minor": 2
}
