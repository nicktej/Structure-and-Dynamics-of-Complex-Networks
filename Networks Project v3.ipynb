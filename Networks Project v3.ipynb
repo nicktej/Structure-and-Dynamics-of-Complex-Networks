{
 "cells": [
  {
   "cell_type": "code",
   "execution_count": 1,
   "metadata": {
    "collapsed": true
   },
   "outputs": [],
   "source": [
    "import networkx\n",
    "import matplotlib.pyplot as plt\n",
    "from networkx.utils import powerlaw_sequence"
   ]
  },
  {
   "cell_type": "code",
   "execution_count": null,
   "metadata": {
    "collapsed": true
   },
   "outputs": [],
   "source": [
    "clust_list_hk = []\n",
    "av_clust_hk = 0\n",
    "closeness_hk = 0\n",
    "neighbors_hk = 0\n",
    "\n",
    "for i in range(10):\n",
    "    G = networkx.powerlaw_cluster_graph(50000, 10, 1)\n",
    "    av_clust_hk = av_clust_hk + networkx.average_clustering(G)\n",
    "    closeness_hk = sum(networkx.closeness_centrality(G).values()) / 10\n",
    "    neighbors_hk = sum(networkx.average_neighbor_degree(G).values()) / 10\n",
    "    \n",
    "av_clust_hk = av_clust_hk / 10\n",
    "\n",
    "for i in range(50000):\n",
    "    clust = networkx.clustering(G,i)\n",
    "    clust_list_hk.append(clust)\n",
    "\n",
    "hk_neighbors_list = networkx.average_neighbor_degree(G).values()\n",
    "hk_closeness_list = networkx.closeness_centrality(G).values()\n",
    "print(G.number_of_edges(), av_clust_hk, closeness_hk, neighbors_hk)\n",
    "degrees = list(G.degree().values())\n"
   ]
  },
  {
   "cell_type": "code",
   "execution_count": null,
   "metadata": {
    "collapsed": true
   },
   "outputs": [],
   "source": []
  }
 ],
 "metadata": {
  "kernelspec": {
   "display_name": "Python 3",
   "language": "python",
   "name": "python3"
  },
  "language_info": {
   "codemirror_mode": {
    "name": "ipython",
    "version": 3
   },
   "file_extension": ".py",
   "mimetype": "text/x-python",
   "name": "python",
   "nbconvert_exporter": "python",
   "pygments_lexer": "ipython3",
   "version": "3.6.1"
  }
 },
 "nbformat": 4,
 "nbformat_minor": 2
}
