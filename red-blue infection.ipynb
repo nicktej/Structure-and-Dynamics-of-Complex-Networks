{
 "cells": [
  {
   "cell_type": "code",
   "execution_count": 5,
   "metadata": {
    "collapsed": true
   },
   "outputs": [],
   "source": [
    "import networkx\n",
    "import matplotlib.pyplot as plt\n",
    "\n",
    "RED = 0\n",
    "BLUE = 1\n",
    "\n",
    "g = networkx.generators.grid_2d_graph(5,5)\n",
    "nodes = [(i,j) for i in range(5) for j in range(5)]\n",
    "\n",
    "pos = {n:n for n in nodes}\n",
    "\n",
    "def checkerboard_pattern(x,y):\n",
    "    d = {}\n",
    "    next_color_red = True\n",
    "    for i in range(x):\n",
    "        for j in range(y):\n",
    "            if next_color_red:\n",
    "                d[(i,j)] = RED\n",
    "                next_color_red = False\n",
    "            else:\n",
    "                d[(i,j)] = BLUE\n",
    "                next_color_red = True\n",
    "    return d\n",
    "\n",
    "def draw(graph, positions, d):\n",
    "    red_nodes = [n for n,c in d.items() if c == RED]\n",
    "    blue_nodes = [n for n,c in d.items() if c == BLUE]\n",
    "    networkx.draw_networkx_nodes(graph,positions,nodelist=red_nodes, node_color='r')\n",
    "    networkx.draw_networkx_nodes(graph,positions,nodelist=blue_nodes,node_color='b')\n",
    "    networkx.draw_networkx_edges(graph,positions)\n",
    "    plt.show()\n"
   ]
  },
  {
   "cell_type": "code",
   "execution_count": null,
   "metadata": {},
   "outputs": [],
   "source": []
  },
  {
   "cell_type": "code",
   "execution_count": null,
   "metadata": {
    "collapsed": true
   },
   "outputs": [],
   "source": []
  }
 ],
 "metadata": {
  "kernelspec": {
   "display_name": "Python 3",
   "language": "python",
   "name": "python3"
  },
  "language_info": {
   "codemirror_mode": {
    "name": "ipython",
    "version": 3
   },
   "file_extension": ".py",
   "mimetype": "text/x-python",
   "name": "python",
   "nbconvert_exporter": "python",
   "pygments_lexer": "ipython3",
   "version": "3.6.1"
  }
 },
 "nbformat": 4,
 "nbformat_minor": 2
}
