{
 "cells": [
  {
   "cell_type": "code",
   "execution_count": 1,
   "metadata": {
    "collapsed": true
   },
   "outputs": [],
   "source": [
    "import networkx\n",
    "import matplotlib.pyplot as plt\n",
    "from networkx.utils import powerlaw_sequence"
   ]
  },
  {
   "cell_type": "code",
   "execution_count": 2,
   "metadata": {},
   "outputs": [
    {
     "name": "stdout",
     "output_type": "stream",
     "text": [
      "897 27.970184470719392\n",
      "dict_values([23, 26, 22, 10, 20, 5, 11, 9, 4, 6, 65, 71, 58, 65, 36, 31, 46, 19, 38, 14, 27, 20, 29, 19, 12, 19, 18, 12, 17, 14, 16, 15, 37, 18, 28, 33, 13, 31, 24, 15, 31, 25, 19, 18, 19, 18, 15, 13, 17, 14, 16, 16, 15, 15, 14, 13, 14, 18, 11, 12, 14, 11, 15, 13, 12, 14, 14, 13, 13, 12, 11, 10, 13, 11, 13, 12, 12, 13, 12, 14, 13, 12, 12, 12, 10, 12, 10, 10, 11, 10, 11, 10, 10, 10, 10, 10, 10, 10, 10, 10])\n"
     ]
    }
   ],
   "source": [
    "G = networkx.powerlaw_cluster_graph(100, 10, 1)\n",
    "neighbors = 0\n",
    "\n",
    "for i in range(100):\n",
    "    networkx.draw_networkx(G)\n",
    "    neighbors = sum(networkx.average_neighbor_degree(G).values()) / 100\n",
    "\n",
    "print(G.number_of_edges(), neighbors)\n",
    "print(G.degree().values())"
   ]
  },
  {
   "cell_type": "code",
   "execution_count": 3,
   "metadata": {},
   "outputs": [
    {
     "name": "stdout",
     "output_type": "stream",
     "text": [
      "756 19.914066947070236\n"
     ]
    }
   ],
   "source": [
    "z = [23, 26, 22, 10, 20, 5, 11, 9, 4, 6, 65, 71, 58, 65, 36, 31, 46, 19, 38, 14, 27, 20, 29, 19, 12, 19, 18, 12, 17, 14, 16, 15, 37, 18, 28, 33, 13, 31, 24, 15, 31, 25, 19, 18, 19, 18, 15, 13, 17, 14, 16, 16, 15, 15, 14, 13, 14, 18, 11, 12, 14, 11, 15, 13, 12, 14, 14, 13, 13, 12, 11, 10, 13, 11, 13, 12, 12, 13, 12, 14, 13, 12, 12, 12, 10, 12, 10, 10, 11, 10, 11, 10, 10, 10, 10, 10, 10, 10, 10, 10]\n",
    "Gx = networkx.configuration_model(z)\n",
    "\n",
    "# remove parallel edges\n",
    "Gx = networkx.Graph(Gx)\n",
    "# remove self loops\n",
    "Gx.remove_edges_from(Gx.selfloop_edges())\n",
    "\n",
    "neighbors = 0\n",
    "\n",
    "for i in range(100):\n",
    "    networkx.draw_networkx(Gx)\n",
    "    neighbors = sum(networkx.average_neighbor_degree(Gx).values()) / 100\n",
    "\n",
    "print(Gx.number_of_edges(), neighbors)"
   ]
  },
  {
   "cell_type": "code",
   "execution_count": 13,
   "metadata": {},
   "outputs": [
    {
     "data": {
      "text/plain": [
       "<matplotlib.legend.Legend at 0x1262da208>"
      ]
     },
     "execution_count": 13,
     "metadata": {},
     "output_type": "execute_result"
    },
    {
     "data": {
      "image/png": "[encoded data removed]",
      "text/plain": [
       "<matplotlib.figure.Figure at 0x110d78748>"
      ]
     },
     "metadata": {},
     "output_type": "display_data"
    }
   ],
   "source": [
    "%matplotlib inline\n",
    "from matplotlib.legend_handler import HandlerLine2D\n",
    "\n",
    "hk_neighbors = networkx.average_neighbor_degree(G).values()\n",
    "config_neighbors = networkx.average_neighbor_degree(Gx).values()\n",
    "\n",
    "plt.ylabel('number of nodes')\n",
    "plt.xlabel('average neighbor degree')\n",
    "_ = plt.hist([\n",
    "    list(hk_neighbors),\n",
    "    [list(config_neighbors)]\n",
    "], bins=35, histtype='step', linewidth=1.5)\n",
    "labels = 'Config', 'H-K'\n",
    "plt.legend(labels)"
   ]
  },
  {
   "cell_type": "code",
   "execution_count": 11,
   "metadata": {},
   "outputs": [
    {
     "name": "stdout",
     "output_type": "stream",
     "text": [
      "dict_values([26.130434782608695, 27.46153846153846, 28.0, 31.7, 29.2, 49.0, 32.27272727272727, 40.77777777777778, 49.25, 50.333333333333336, 19.923076923076923, 19.577464788732396, 20.775862068965516, 19.892307692307693, 22.583333333333332, 25.096774193548388, 22.347826086956523, 27.94736842105263, 23.394736842105264, 35.642857142857146, 23.59259259259259, 30.45, 24.103448275862068, 30.789473684210527, 39.583333333333336, 29.842105263157894, 30.333333333333332, 28.75, 28.352941176470587, 35.0, 27.875, 26.666666666666668, 23.324324324324323, 28.27777777777778, 25.928571428571427, 23.666666666666668, 31.76923076923077, 25.032258064516128, 26.5, 23.933333333333334, 23.612903225806452, 22.32, 28.94736842105263, 26.0, 29.0, 26.333333333333332, 25.533333333333335, 26.23076923076923, 25.941176470588236, 24.214285714285715, 26.75, 26.125, 28.866666666666667, 25.866666666666667, 30.571428571428573, 31.384615384615383, 26.214285714285715, 24.666666666666668, 40.27272727272727, 32.666666666666664, 29.357142857142858, 31.454545454545453, 28.8, 26.0, 27.75, 26.0, 27.785714285714285, 28.384615384615383, 25.23076923076923, 33.083333333333336, 25.818181818181817, 32.9, 26.692307692307693, 24.90909090909091, 22.23076923076923, 27.833333333333332, 28.583333333333332, 25.23076923076923, 32.666666666666664, 25.142857142857142, 27.23076923076923, 28.25, 26.333333333333332, 23.916666666666668, 29.8, 24.083333333333332, 26.2, 34.6, 25.272727272727273, 27.1, 18.181818181818183, 32.0, 26.3, 30.2, 17.8, 21.1, 25.0, 27.1, 26.5, 27.6])\n"
     ]
    }
   ],
   "source": [
    "print(networkx.average_neighbor_degree(G).values())"
   ]
  },
  {
   "cell_type": "code",
   "execution_count": 12,
   "metadata": {},
   "outputs": [
    {
     "name": "stdout",
     "output_type": "stream",
     "text": [
      "dict_values([18.952380952380953, 18.666666666666668, 19.6, 17.7, 21.294117647058822, 19.0, 28.5, 22.333333333333332, 23.5, 28.6, 16.488372093023255, 17.133333333333333, 18.181818181818183, 16.26829268292683, 21.0, 18.75862068965517, 19.742857142857144, 16.875, 16.620689655172413, 16.666666666666668, 20.681818181818183, 18.157894736842106, 19.38095238095238, 19.25, 17.0, 23.857142857142858, 17.0, 21.083333333333332, 18.333333333333332, 17.23076923076923, 21.23076923076923, 20.333333333333332, 17.93548387096774, 20.666666666666668, 17.416666666666668, 18.17241379310345, 19.0, 17.73913043478261, 18.85, 21.916666666666668, 19.59090909090909, 18.857142857142858, 19.68421052631579, 18.375, 23.764705882352942, 19.733333333333334, 20.2, 19.916666666666668, 16.25, 22.083333333333332, 23.6, 16.153846153846153, 20.571428571428573, 18.0, 18.818181818181817, 16.333333333333332, 21.571428571428573, 18.705882352941178, 16.2, 20.416666666666668, 21.666666666666668, 25.8, 24.0, 17.0, 19.545454545454547, 22.0, 19.916666666666668, 26.2, 18.923076923076923, 19.636363636363637, 16.636363636363637, 18.875, 18.363636363636363, 19.0, 23.363636363636363, 17.416666666666668, 16.636363636363637, 21.818181818181817, 22.083333333333332, 18.692307692307693, 17.416666666666668, 23.916666666666668, 19.916666666666668, 23.166666666666668, 17.9, 20.727272727272727, 20.77777777777778, 16.3, 20.9, 20.0, 19.444444444444443, 19.11111111111111, 16.8, 15.88888888888889, 30.625, 25.4, 22.0, 16.375, 22.11111111111111, 25.11111111111111])\n"
     ]
    }
   ],
   "source": [
    "print(networkx.average_neighbor_degree(Gx).values())"
   ]
  },
  {
   "cell_type": "code",
   "execution_count": null,
   "metadata": {
    "collapsed": true
   },
   "outputs": [],
   "source": []
  }
 ],
 "metadata": {
  "kernelspec": {
   "display_name": "Python 3",
   "language": "python",
   "name": "python3"
  },
  "language_info": {
   "codemirror_mode": {
    "name": "ipython",
    "version": 3
   },
   "file_extension": ".py",
   "mimetype": "text/x-python",
   "name": "python",
   "nbconvert_exporter": "python",
   "pygments_lexer": "ipython3",
   "version": "3.6.1"
  }
 },
 "nbformat": 4,
 "nbformat_minor": 2
}
