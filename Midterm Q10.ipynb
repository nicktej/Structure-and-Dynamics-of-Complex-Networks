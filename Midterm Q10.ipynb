{
 "cells": [
  {
   "cell_type": "code",
   "execution_count": 56,
   "metadata": {
    "collapsed": true
   },
   "outputs": [],
   "source": [
    "import networkx\n",
    "graph = networkx.Graph()\n",
    "import matplotlib.pyplot as plt\n",
    "%matplotlib inline"
   ]
  },
  {
   "cell_type": "code",
   "execution_count": 2,
   "metadata": {},
   "outputs": [
    {
     "name": "stdout",
     "output_type": "stream",
     "text": [
      "/Users/nicktan/Downloads\n"
     ]
    }
   ],
   "source": [
    "cd downloads"
   ]
  },
  {
   "cell_type": "code",
   "execution_count": 3,
   "metadata": {
    "collapsed": true
   },
   "outputs": [],
   "source": [
    "word_assoc = networkx.read_edgelist('word_association_graph_DSF.txt', create_using=networkx.DiGraph(), nodetype=str, data=[('weight', float)] )"
   ]
  },
  {
   "cell_type": "code",
   "execution_count": 62,
   "metadata": {},
   "outputs": [
    {
     "data": {
      "image/png": "[encoded data removed]",
      "text/plain": [
       "<matplotlib.figure.Figure at 0x116642160>"
      ]
     },
     "metadata": {},
     "output_type": "display_data"
    },
    {
     "name": "stdout",
     "output_type": "stream",
     "text": [
      "[0, 2.076923076923077, 10.03448275862069, 16.095049504950495, 14.385113268608414, 12.217662043589018, 10.044473390398213, 8.702798692996165, 7.951636188642926, 7.446854429696773, 7.161532225374949, 6.979308998633613, 6.880742725880551, 6.841325610103504, 6.819686081694402, 6.809532798489854, 6.803790307373185, 6.799962310374069, 6.799415865837573]\n"
     ]
    }
   ],
   "source": [
    "number = []\n",
    "total = []\n",
    "average = 0\n",
    "avn = 0\n",
    "n = 2\n",
    "counter = 0\n",
    "in_deg_nodes = list(word_assoc.in_degree().values())\n",
    "\n",
    "for x in range(10616):\n",
    "    number.append(list(word_assoc)[x].count('')-1)\n",
    "    \n",
    "for n in range (max(number)):\n",
    "    for x in range(10616):\n",
    "        if (number[x] == n):\n",
    "            counter = counter + 1\n",
    "            average = average + (in_deg_nodes[x])\n",
    "            avn = average/counter\n",
    "    total.append(avn)\n",
    "\n",
    "plt.plot([0, 2.076923076923077, 10.03448275862069, 16.095049504950495, 14.385113268608414, 12.217662043589018, 10.044473390398213, 8.702798692996165, 7.951636188642926, 7.446854429696773, 7.161532225374949, 6.979308998633613, 6.880742725880551, 6.841325610103504, 6.819686081694402, 6.809532798489854, 6.803790307373185, 6.799962310374069, 6.799415865837573])\n",
    "plt.xlabel('n')\n",
    "plt.ylabel('average')\n",
    "plt.show()\n",
    "print(total)"
   ]
  },
  {
   "cell_type": "code",
   "execution_count": null,
   "metadata": {},
   "outputs": [],
   "source": [
    "# The graph spikes upwards until 3, and then gradually decreases until it arrives at a constant\n",
    "# The max of the graph is at an average of 16.09 at n = 3, and becomes constant at around 6.8 from 11 onwards\n",
    "# It looks like this because there are many words with shorter length, and that means more nodes with in-degrees. Even though \n",
    "# we take the average, we still have a larger number of nodes. Why does this effect it?\n",
    "# I think its because in the English language, there are generally more short words than long words. And these short words\n",
    "# can often mean something similar to other short words. So there its very clustered around a smaller value of n.\n"
   ]
  },
  {
   "cell_type": "code",
   "execution_count": null,
   "metadata": {
    "collapsed": true
   },
   "outputs": [],
   "source": []
  }
 ],
 "metadata": {
  "kernelspec": {
   "display_name": "Python 3",
   "language": "python",
   "name": "python3"
  },
  "language_info": {
   "codemirror_mode": {
    "name": "ipython",
    "version": 3
   },
   "file_extension": ".py",
   "mimetype": "text/x-python",
   "name": "python",
   "nbconvert_exporter": "python",
   "pygments_lexer": "ipython3",
   "version": "3.6.1"
  }
 },
 "nbformat": 4,
 "nbformat_minor": 2
}
