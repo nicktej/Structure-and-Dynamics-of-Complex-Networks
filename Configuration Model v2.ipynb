{
 "cells": [
  {
   "cell_type": "code",
   "execution_count": 1,
   "metadata": {
    "collapsed": true
   },
   "outputs": [],
   "source": [
    "import networkx\n",
    "import matplotlib.pyplot as plt\n",
    "from networkx.utils import powerlaw_sequence, create_degree_sequence, uniform_sequence"
   ]
  },
  {
   "cell_type": "code",
   "execution_count": null,
   "metadata": {
    "collapsed": true
   },
   "outputs": [],
   "source": []
  },
  {
   "cell_type": "code",
   "execution_count": 35,
   "metadata": {},
   "outputs": [
    {
     "name": "stdout",
     "output_type": "stream",
     "text": [
      "762\n",
      "100\n",
      "dict_values([21, 16, 10, 8, 18, 22, 6, 5, 10, 4, 41, 45, 40, 34, 27, 28, 32, 30, 16, 22, 23, 17, 27, 14, 21, 16, 22, 18, 16, 10, 26, 21, 34, 21, 22, 13, 23, 19, 13, 21, 14, 17, 14, 16, 11, 15, 16, 17, 16, 14, 12, 9, 14, 8, 12, 19, 13, 13, 14, 13, 12, 12, 14, 9, 16, 8, 9, 11, 9, 11, 14, 11, 10, 9, 11, 8, 11, 13, 10, 10, 11, 10, 11, 13, 9, 12, 12, 11, 9, 9, 10, 8, 10, 9, 10, 8, 10, 10, 7, 8])\n"
     ]
    }
   ],
   "source": [
    "z = [26, 22, 13, 9, 18, 29, 6, 5, 10, 4, 59, 67, 64, 47, 34, 37, 34, 34, 16, 26, 29, 24, 31, 15, 23, 17, 24, 22, 18, 10, 32, 21, 41, 23, 26, 15, 24, 23, 15, 25, 15, 18, 15, 19, 12, 16, 20, 19, 17, 14, 15, 13, 14, 11, 14, 23, 14, 13, 14, 16, 12, 12, 16, 11, 17, 13, 10, 11, 11, 14, 16, 13, 13, 10, 11, 11, 11, 13, 13, 11, 11, 10, 12, 13, 12, 12, 12, 11, 11, 10, 10, 10, 10, 10, 10, 10, 11, 10, 10, 10]\n",
    "G = networkx.configuration_model(z)\n",
    "\n",
    "# remove parallel edges\n",
    "G = networkx.Graph(G)\n",
    "# # remove self loops\n",
    "G.remove_edges_from(G.selfloop_edges())\n",
    "\n",
    "\n",
    "print(G.number_of_edges())\n",
    "print(len(z))\n",
    "print(G.degree().values())\n",
    "deg = G.degree().values()\n",
    "remainder = [26, 22, 13, 9, 18, 29, 6, 5, 10, 4, 59, 67, 64, 47, 34, 37, 34, 34, 16, 26, 29, 24, 31, 15, 23, 17, 24, 22, 18, 10, 32, 21, 41, 23, 26, 15, 24, 23, 15, 25, 15, 18, 15, 19, 12, 16, 20, 19, 17, 14, 15, 13, 14, 11, 14, 23, 14, 13, 14, 16, 12, 12, 16, 11, 17, 13, 10, 11, 11, 14, 16, 13, 13, 10, 11, 11, 11, 13, 13, 11, 11, 10, 12, 13, 12, 12, 12, 11, 11, 10, 10, 10, 10, 10, 10, 10, 11, 10, 10, 10]\n",
    "# for i in range(100):\n",
    "#     remainder[i] = remainder[i] = deg."
   ]
  },
  {
   "cell_type": "code",
   "execution_count": null,
   "metadata": {
    "collapsed": true
   },
   "outputs": [],
   "source": []
  },
  {
   "cell_type": "code",
   "execution_count": 175,
   "metadata": {},
   "outputs": [
    {
     "data": {
      "image/png": "[encoded data removed]",
      "text/plain": [
       "<matplotlib.figure.Figure at 0x10b775c50>"
      ]
     },
     "metadata": {},
     "output_type": "display_data"
    },
    {
     "name": "stdout",
     "output_type": "stream",
     "text": [
      "[0, 0, 0, 0, 0, 0, 0, 0, 0, 0]\n",
      "16\n",
      "[]\n",
      "16\n",
      "0.7694444444444445\n",
      "0.6255357142857143\n",
      "5.1305555555555555\n"
     ]
    }
   ],
   "source": [
    "z=[4, 2, 9, 3, 2, 3, 2, 2, 3, 2]\n",
    "G = networkx.configuration_model(z)\n",
    "closeness = 0\n",
    "neighbors = 0\n",
    "\n",
    "networkx.double_edge_swap(G,10, 10000)\n",
    "\n",
    "# remove parallel edges\n",
    "G = networkx.Graph(G)\n",
    "# remove self loops\n",
    "G.remove_edges_from(G.selfloop_edges())\n",
    "\n",
    "networkx.double_edge_swap(G,10, 10000)\n",
    "\n",
    "y = list(G.degree().values())\n",
    "remainder=[4, 2, 9, 3, 2, 3, 2, 2, 3, 2]\n",
    "for i in range(10):\n",
    "    remainder[i] = remainder[i] - y[i]\n",
    "    \n",
    "\n",
    "networkx.draw_networkx(G)\n",
    "plt.show()\n",
    "print(remainder)\n",
    "print(G.number_of_edges())\n",
    "print(G.selfloop_edges())\n",
    "closeness = sum(networkx.closeness_centrality(G).values()) / 10\n",
    "neighbors = sum(networkx.average_neighbor_degree(G).values()) / 10\n",
    "print(G.number_of_edges())\n",
    "print(networkx.average_clustering(G))\n",
    "print(closeness)\n",
    "print(neighbors)"
   ]
  },
  {
   "cell_type": "code",
   "execution_count": null,
   "metadata": {
    "collapsed": true
   },
   "outputs": [],
   "source": [
    "z=[4, 2, 9, 3, 2, 3, 2, 2, 3, 2]\n",
    "G = networkx.configuration_model(z)\n",
    "\n",
    "networkx.double_edge_swap(G,10, 10000)\n",
    "\n",
    "# remove parallel edges\n",
    "G = networkx.Graph(G)\n",
    "# remove self loops\n",
    "G.remove_edges_from(G.selfloop_edges())\n",
    "\n",
    "networkx.double_edge_swap(G,10, 10000)"
   ]
  }
 ],
 "metadata": {
  "kernelspec": {
   "display_name": "Python 3",
   "language": "python",
   "name": "python3"
  },
  "language_info": {
   "codemirror_mode": {
    "name": "ipython",
    "version": 3
   },
   "file_extension": ".py",
   "mimetype": "text/x-python",
   "name": "python",
   "nbconvert_exporter": "python",
   "pygments_lexer": "ipython3",
   "version": "3.6.1"
  }
 },
 "nbformat": 4,
 "nbformat_minor": 2
}
