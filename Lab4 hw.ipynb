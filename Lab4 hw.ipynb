{
 "cells": [
  {
   "cell_type": "code",
   "execution_count": 8,
   "metadata": {},
   "outputs": [
    {
     "name": "stdout",
     "output_type": "stream",
     "text": [
      "0.34196335454546756\n"
     ]
    }
   ],
   "source": [
    "%matplotlib inline\n",
    "import matplotlib.pyplot as plt\n",
    "import warnings\n",
    "warnings.filterwarnings(\"ignore\", category=UserWarning) # to ignore annoying warning messages when using matplotlib\n",
    "import networkx\n",
    "import random\n",
    "import math\n",
    "\n",
    "N = 10000\n",
    "M = 100\n",
    "t = True\n",
    "counter = 0\n",
    "\n",
    "def make_ring(N):\n",
    "    graph = networkx.Graph()\n",
    "    for i in range(N):\n",
    "        graph.add_node(i)\n",
    "    \n",
    "    for i in range(N):\n",
    "        graph.add_edge(i, (i+1)%N)\n",
    "        graph.add_edge(i, (i+2)%N)\n",
    "        \n",
    "    for i in range(math.floor(N/2)):\n",
    "        x = random.randint(0,N-1)\n",
    "        y = random.randint(0,N-1)\n",
    "        if (x != y):\n",
    "            graph.add_edge(x, y%N)\n",
    "        if (x == y):\n",
    "            i=i-1\n",
    "    return graph\n",
    "\n",
    "for i in range(M):\n",
    "    g = make_ring(N)\n",
    "    ac = networkx.average_clustering(g)\n",
    "    counter += ac\n",
    "\n",
    "avc = counter/M\n",
    "\n",
    "print(avc)\n",
    "\n",
    "# My program arrived at an estimate for the average clustering coefficient of 0.342036... for 100 graphs of 10000 nodes.\n",
    "# In class, we arrived at an estimate of 0.3 for the average clustering coefficient.\n",
    "# I believe there are several difference why there is a difference in values:\n",
    "# 1. My program only runs for 100 graphs of 10000 nodes, and if the device is given greater computational power, \n",
    "#    it would be able to run larger numbers, hence increasing the accuracy and narrowing the differences.\n",
    "# 2. It is a randomized program, so the values will be different every time.\n",
    "\n",
    "        \n",
    "        "
   ]
  },
  {
   "cell_type": "code",
   "execution_count": 5,
   "metadata": {},
   "outputs": [
    {
     "name": "stdout",
     "output_type": "stream",
     "text": [
      "10 25\n",
      "10 25\n",
      "10 25\n",
      "10 25\n",
      "10 25\n",
      "10 25\n",
      "10 25\n",
      "10 25\n",
      "10 25\n",
      "10 25\n"
     ]
    }
   ],
   "source": [
    "%matplotlib inline\n",
    "import matplotlib.pyplot as plt\n",
    "import warnings\n",
    "warnings.filterwarnings(\"ignore\", category=UserWarning) # to ignore annoying warning messages when using matplotlib\n",
    "import networkx\n",
    "import random\n",
    "import math\n",
    "\n",
    "N = 10000\n",
    "M = 100\n",
    "t = True\n",
    "counter = 0\n",
    "\n",
    "def make_ring(N):\n",
    "    graph = networkx.Graph()\n",
    "    for i in range(N):\n",
    "        graph.add_node(i)\n",
    "    \n",
    "    for i in range(N):\n",
    "        graph.add_edge(i, (i+1)%N)\n",
    "        graph.add_edge(i, (i+2)%N)\n",
    "        \n",
    "    for i in range(math.floor(N/2)):\n",
    "        \n",
    "        x = random.randint(0,N-1)\n",
    "        y = random.randint(0,N-1)\n",
    "        \n",
    "        while (abs(x-y) <= 2 or (x ==(N-1) and y == 0) or (y ==(N-1) and x == 0) or (x ==(N-1) and y == 1)\n",
    "              or (y ==(N-1) and x == 1) or (x ==(N-2) and y == 0) or (y ==(N-2) and x == 0)\n",
    "              or graph.has_edge(x, y) == t):\n",
    "            x = random.randint(0,N-1)\n",
    "            y = random.randint(0,N-1)\n",
    "        \n",
    "        if (graph.has_edge(x, y) == t):\n",
    "            i=i-1\n",
    "        else:\n",
    "            graph.add_edge(x, y)\n",
    "        \n",
    "    return graph\n",
    "\n",
    "for i in range(10):\n",
    "    g = make_ring(10)\n",
    "    print (g.number_of_nodes(), g.number_of_edges())"
   ]
  },
  {
   "cell_type": "code",
   "execution_count": 4,
   "metadata": {},
   "outputs": [
    {
     "name": "stdout",
     "output_type": "stream",
     "text": [
      "0.34189352871574163\n"
     ]
    }
   ],
   "source": [
    "%matplotlib inline\n",
    "import matplotlib.pyplot as plt\n",
    "import warnings\n",
    "warnings.filterwarnings(\"ignore\", category=UserWarning) # to ignore annoying warning messages when using matplotlib\n",
    "import networkx\n",
    "import random\n",
    "import math\n",
    "\n",
    "N = 10000\n",
    "M = 100\n",
    "t = True\n",
    "counter = 0\n",
    "\n",
    "def make_ring(N):\n",
    "    graph = networkx.Graph()\n",
    "    for i in range(N):\n",
    "        graph.add_node(i)\n",
    "    \n",
    "    for i in range(N):\n",
    "        graph.add_edge(i, (i+1)%N)\n",
    "        graph.add_edge(i, (i+2)%N)\n",
    "        \n",
    "    for i in range(math.floor(N/2)):\n",
    "        \n",
    "        x = random.randint(0,N-1)\n",
    "        y = random.randint(0,N-1)\n",
    "        \n",
    "        while (abs(x-y) <= 2 or (x ==(N-1) and y == 0) or (y ==(N-1) and x == 0) or (x ==(N-1) and y == 1)\n",
    "              or (y ==(N-1) and x == 1) or (x ==(N-2) and y == 0) or (y ==(N-2) and x == 0)\n",
    "              or graph.has_edge(x, y) == t):\n",
    "            x = random.randint(0,N-1)\n",
    "            y = random.randint(0,N-1)\n",
    "        \n",
    "        if (graph.has_edge(x, y) == t):\n",
    "            i=i-1\n",
    "        else:\n",
    "            graph.add_edge(x, y)\n",
    "        \n",
    "    return graph\n",
    "\n",
    "for i in range(M):\n",
    "    g = make_ring(N)\n",
    "    ac = networkx.average_clustering(g)\n",
    "    counter += ac\n",
    "\n",
    "avc = counter/M\n",
    "\n",
    "print(avc)\n",
    "\n",
    "# My program arrived at an estimate for the average clustering coefficient of 0.342036... for 100 graphs of 10000 nodes.\n",
    "# In class, we arrived at an estimate of 0.3 for the average clustering coefficient.\n",
    "# I believe there are several difference why there is a difference in values:\n",
    "# 1. My program only runs for 100 graphs of 10000 nodes, and if the device is given greater computational power, \n",
    "#    it would be able to run larger numbers, hence increasing the accuracy and narrowing the differences.\n",
    "# 2. It is a randomized program, so the values will be different every time."
   ]
  },
  {
   "cell_type": "code",
   "execution_count": null,
   "metadata": {
    "collapsed": true
   },
   "outputs": [],
   "source": []
  }
 ],
 "metadata": {
  "kernelspec": {
   "display_name": "Python 3",
   "language": "python",
   "name": "python3"
  },
  "language_info": {
   "codemirror_mode": {
    "name": "ipython",
    "version": 3
   },
   "file_extension": ".py",
   "mimetype": "text/x-python",
   "name": "python",
   "nbconvert_exporter": "python",
   "pygments_lexer": "ipython3",
   "version": "3.6.1"
  }
 },
 "nbformat": 4,
 "nbformat_minor": 2
}
