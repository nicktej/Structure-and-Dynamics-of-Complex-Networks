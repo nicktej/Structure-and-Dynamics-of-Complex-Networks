{
 "cells": [
  {
   "cell_type": "code",
   "execution_count": 1,
   "metadata": {
    "collapsed": true
   },
   "outputs": [],
   "source": [
    "import networkx\n",
    "import matplotlib.pyplot as plt\n",
    "from networkx.utils import powerlaw_sequence"
   ]
  },
  {
   "cell_type": "code",
   "execution_count": 2,
   "metadata": {},
   "outputs": [
    {
     "name": "stdout",
     "output_type": "stream",
     "text": [
      "897 0.5330284979766229\n",
      "dict_values([42, 7, 30, 11, 5, 6, 10, 7, 4, 4, 70, 65, 54, 54, 38, 37, 35, 33, 43, 29, 40, 25, 21, 19, 14, 31, 27, 16, 13, 10, 24, 11, 38, 22, 19, 19, 15, 11, 19, 21, 17, 23, 21, 14, 14, 17, 19, 13, 15, 19, 17, 14, 17, 15, 14, 17, 15, 15, 18, 12, 12, 10, 13, 10, 17, 11, 18, 14, 10, 15, 12, 11, 10, 13, 11, 14, 14, 10, 14, 14, 13, 10, 11, 10, 11, 12, 13, 10, 10, 13, 11, 10, 11, 10, 10, 11, 10, 10, 10, 10])\n"
     ]
    }
   ],
   "source": [
    "G = networkx.powerlaw_cluster_graph(100, 10, 1)\n",
    "closeness = 0\n",
    "\n",
    "for i in range(100):\n",
    "    networkx.draw_networkx(G)\n",
    "    closeness = sum(networkx.closeness_centrality(G).values()) / 100\n",
    "\n",
    "print(G.number_of_edges(), closeness)\n",
    "print(G.degree().values())"
   ]
  },
  {
   "cell_type": "code",
   "execution_count": 3,
   "metadata": {},
   "outputs": [
    {
     "name": "stdout",
     "output_type": "stream",
     "text": [
      "752 0.5146933360830772\n"
     ]
    }
   ],
   "source": [
    "z = [42, 7, 30, 11, 5, 6, 10, 7, 4, 4, 70, 65, 54, 54, 38, 37, 35, 33, 43, 29, 40, 25, 21, 19, 14, 31, 27, 16, 13, 10, 24, 11, 38, 22, 19, 19, 15, 11, 19, 21, 17, 23, 21, 14, 14, 17, 19, 13, 15, 19, 17, 14, 17, 15, 14, 17, 15, 15, 18, 12, 12, 10, 13, 10, 17, 11, 18, 14, 10, 15, 12, 11, 10, 13, 11, 14, 14, 10, 14, 14, 13, 10, 11, 10, 11, 12, 13, 10, 10, 13, 11, 10, 11, 10, 10, 11, 10, 10, 10, 10]\n",
    "Gx = networkx.configuration_model(z)\n",
    "\n",
    "# remove parallel edges\n",
    "Gx = networkx.Graph(Gx)\n",
    "# remove self loops\n",
    "Gx.remove_edges_from(Gx.selfloop_edges())\n",
    "\n",
    "closeness = 0\n",
    "\n",
    "for i in range(100):\n",
    "    networkx.draw_networkx(Gx)\n",
    "    closeness = sum(networkx.closeness_centrality(Gx).values()) / 100\n",
    "\n",
    "print(Gx.number_of_edges(), closeness)"
   ]
  },
  {
   "cell_type": "code",
   "execution_count": 118,
   "metadata": {},
   "outputs": [
    {
     "data": {
      "text/plain": [
       "<matplotlib.legend.Legend at 0x1247ed390>"
      ]
     },
     "execution_count": 118,
     "metadata": {},
     "output_type": "execute_result"
    },
    {
     "data": {
      "image/png": "[encoded data removed]",
      "text/plain": [
       "<matplotlib.figure.Figure at 0x127ea8908>"
      ]
     },
     "metadata": {},
     "output_type": "display_data"
    }
   ],
   "source": [
    "%matplotlib inline\n",
    "from matplotlib.legend_handler import HandlerLine2D\n",
    "\n",
    "hk_closeness = networkx.closeness_centrality(G).values()\n",
    "config_closeness = networkx.closeness_centrality(Gx).values()\n",
    "\n",
    "plt.ylabel('number of nodes')\n",
    "plt.xlabel('closeness centrality')\n",
    "_ = plt.hist([\n",
    "    list(hk_closeness),\n",
    "    [list(config_closeness)]\n",
    "], bins=30, histtype='step', linewidth=1.5)\n",
    "labels = 'Config', 'H-K'\n",
    "plt.legend(labels)"
   ]
  },
  {
   "cell_type": "code",
   "execution_count": 29,
   "metadata": {},
   "outputs": [
    {
     "name": "stdout",
     "output_type": "stream",
     "text": [
      "dict_values([0.6346153846153846, 0.5, 0.5823529411764706, 0.5238095238095238, 0.5025380710659898, 0.495, 0.5210526315789473, 0.5076923076923077, 0.495, 0.4900990099009901, 0.7734375, 0.7443609022556391, 0.6875, 0.6875, 0.61875, 0.6111111111111112, 0.6073619631901841, 0.5963855421686747, 0.6387096774193548, 0.5857988165680473, 0.6265822784810127, 0.5722543352601156, 0.553072625698324, 0.553072625698324, 0.532258064516129, 0.5857988165680473, 0.5722543352601156, 0.5409836065573771, 0.5294117647058824, 0.515625, 0.5689655172413793, 0.5238095238095238, 0.6036585365853658, 0.5561797752808989, 0.5409836065573771, 0.5409836065573771, 0.532258064516129, 0.5238095238095238, 0.5409836065573771, 0.5380434782608695, 0.526595744680851, 0.553072625698324, 0.5409836065573771, 0.5103092783505154, 0.532258064516129, 0.518324607329843, 0.5469613259668509, 0.518324607329843, 0.518324607329843, 0.5439560439560439, 0.5351351351351351, 0.4876847290640394, 0.5210526315789473, 0.5238095238095238, 0.47368421052631576, 0.5351351351351351, 0.518324607329843, 0.5294117647058824, 0.5409836065573771, 0.518324607329843, 0.518324607329843, 0.5076923076923077, 0.5238095238095238, 0.5210526315789473, 0.526595744680851, 0.5103092783505154, 0.5351351351351351, 0.518324607329843, 0.5, 0.5076923076923077, 0.5103092783505154, 0.5, 0.47596153846153844, 0.532258064516129, 0.5051020408163265, 0.4583333333333333, 0.48292682926829267, 0.5, 0.526595744680851, 0.5, 0.4876847290640394, 0.4876847290640394, 0.49748743718592964, 0.5129533678756477, 0.495, 0.5076923076923077, 0.5238095238095238, 0.5103092783505154, 0.4900990099009901, 0.4125, 0.526595744680851, 0.5210526315789473, 0.4876847290640394, 0.5076923076923077, 0.47596153846153844, 0.515625, 0.5, 0.41422594142259417, 0.4479638009049774, 0.47368421052631576])\n"
     ]
    }
   ],
   "source": [
    "print(networkx.closeness_centrality(G).values())"
   ]
  },
  {
   "cell_type": "code",
   "execution_count": 30,
   "metadata": {},
   "outputs": [
    {
     "name": "stdout",
     "output_type": "stream",
     "text": [
      "dict_values([0.6, 0.4541284403669725, 0.5689655172413793, 0.5051020408163265, 0.44594594594594594, 0.4520547945205479, 0.5, 0.4419642857142857, 0.43612334801762115, 0.38823529411764707, 0.6428571428571429, 0.6387096774193548, 0.6265822784810127, 0.6, 0.5755813953488372, 0.5963855421686747, 0.5892857142857143, 0.5689655172413793, 0.5857988165680473, 0.5561797752808989, 0.5963855421686747, 0.553072625698324, 0.5409836065573771, 0.5409836065573771, 0.5129533678756477, 0.5755813953488372, 0.553072625698324, 0.5076923076923077, 0.4925373134328358, 0.46919431279620855, 0.5380434782608695, 0.46261682242990654, 0.5892857142857143, 0.5380434782608695, 0.5469613259668509, 0.5409836065573771, 0.5129533678756477, 0.48292682926829267, 0.5238095238095238, 0.532258064516129, 0.515625, 0.55, 0.5294117647058824, 0.4925373134328358, 0.5051020408163265, 0.526595744680851, 0.5439560439560439, 0.495, 0.5238095238095238, 0.5351351351351351, 0.5210526315789473, 0.5129533678756477, 0.5380434782608695, 0.5129533678756477, 0.495, 0.515625, 0.5238095238095238, 0.5103092783505154, 0.5351351351351351, 0.515625, 0.5076923076923077, 0.4876847290640394, 0.5, 0.47596153846153844, 0.5076923076923077, 0.4876847290640394, 0.5129533678756477, 0.4925373134328358, 0.48292682926829267, 0.5129533678756477, 0.47368421052631576, 0.4782608695652174, 0.495, 0.495, 0.4925373134328358, 0.518324607329843, 0.5210526315789473, 0.495, 0.4876847290640394, 0.515625, 0.515625, 0.4782608695652174, 0.5, 0.4782608695652174, 0.5076923076923077, 0.5, 0.49748743718592964, 0.495, 0.4782608695652174, 0.518324607329843, 0.49748743718592964, 0.4604651162790698, 0.4925373134328358, 0.4782608695652174, 0.4669811320754717, 0.4876847290640394, 0.4876847290640394, 0.4604651162790698, 0.48292682926829267, 0.4647887323943662])\n"
     ]
    }
   ],
   "source": [
    "print(networkx.closeness_centrality(Gx).values())"
   ]
  },
  {
   "cell_type": "code",
   "execution_count": null,
   "metadata": {},
   "outputs": [],
   "source": []
  },
  {
   "cell_type": "code",
   "execution_count": null,
   "metadata": {},
   "outputs": [],
   "source": []
  },
  {
   "cell_type": "code",
   "execution_count": null,
   "metadata": {
    "collapsed": true
   },
   "outputs": [],
   "source": []
  }
 ],
 "metadata": {
  "kernelspec": {
   "display_name": "Python 3",
   "language": "python",
   "name": "python3"
  },
  "language_info": {
   "codemirror_mode": {
    "name": "ipython",
    "version": 3
   },
   "file_extension": ".py",
   "mimetype": "text/x-python",
   "name": "python",
   "nbconvert_exporter": "python",
   "pygments_lexer": "ipython3",
   "version": "3.6.1"
  }
 },
 "nbformat": 4,
 "nbformat_minor": 2
}
